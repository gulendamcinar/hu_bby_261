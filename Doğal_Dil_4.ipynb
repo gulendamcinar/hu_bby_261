{
  "nbformat": 4,
  "nbformat_minor": 0,
  "metadata": {
    "colab": {
      "provenance": [],
      "authorship_tag": "ABX9TyNX88vxrNvtm+K2v5TwA9yL",
      "include_colab_link": true
    },
    "kernelspec": {
      "name": "python3",
      "display_name": "Python 3"
    },
    "language_info": {
      "name": "python"
    }
  },
  "cells": [
    {
      "cell_type": "markdown",
      "metadata": {
        "id": "view-in-github",
        "colab_type": "text"
      },
      "source": [
        "<a href=\"https://colab.research.google.com/github/gulendamcinar/hu_bby_261/blob/main/Do%C4%9Fal_Dil_4.ipynb\" target=\"_parent\"><img src=\"https://colab.research.google.com/assets/colab-badge.svg\" alt=\"Open In Colab\"/></a>"
      ]
    },
    {
      "cell_type": "code",
      "execution_count": null,
      "metadata": {
        "colab": {
          "base_uri": "https://localhost:8080/"
        },
        "id": "rDXMeiBzTPIO",
        "outputId": "3d3447ea-10d0-49b9-a3cd-9767caaa2136"
      },
      "outputs": [
        {
          "metadata": {
            "tags": null
          },
          "name": "stderr",
          "output_type": "stream",
          "text": [
            "/usr/local/lib/python3.10/dist-packages/sklearn/metrics/_classification.py:1531: UndefinedMetricWarning: Precision is ill-defined and being set to 0.0 in labels with no predicted samples. Use `zero_division` parameter to control this behavior.\n",
            "  _warn_prf(average, modifier, f\"{metric.capitalize()} is\", len(result))\n",
            "/usr/local/lib/python3.10/dist-packages/sklearn/metrics/_classification.py:1531: UndefinedMetricWarning: Recall is ill-defined and being set to 0.0 in labels with no true samples. Use `zero_division` parameter to control this behavior.\n",
            "  _warn_prf(average, modifier, f\"{metric.capitalize()} is\", len(result))\n",
            "/usr/local/lib/python3.10/dist-packages/sklearn/metrics/_classification.py:1531: UndefinedMetricWarning: Precision is ill-defined and being set to 0.0 in labels with no predicted samples. Use `zero_division` parameter to control this behavior.\n",
            "  _warn_prf(average, modifier, f\"{metric.capitalize()} is\", len(result))\n",
            "/usr/local/lib/python3.10/dist-packages/sklearn/metrics/_classification.py:1531: UndefinedMetricWarning: Recall is ill-defined and being set to 0.0 in labels with no true samples. Use `zero_division` parameter to control this behavior.\n",
            "  _warn_prf(average, modifier, f\"{metric.capitalize()} is\", len(result))\n",
            "/usr/local/lib/python3.10/dist-packages/sklearn/metrics/_classification.py:1531: UndefinedMetricWarning: Precision is ill-defined and being set to 0.0 in labels with no predicted samples. Use `zero_division` parameter to control this behavior.\n",
            "  _warn_prf(average, modifier, f\"{metric.capitalize()} is\", len(result))\n",
            "/usr/local/lib/python3.10/dist-packages/sklearn/metrics/_classification.py:1531: UndefinedMetricWarning: Recall is ill-defined and being set to 0.0 in labels with no true samples. Use `zero_division` parameter to control this behavior.\n",
            "  _warn_prf(average, modifier, f\"{metric.capitalize()} is\", len(result))\n"
          ]
        },
        {
          "metadata": {
            "tags": null
          },
          "name": "stdout",
          "output_type": "stream",
          "text": [
            "              precision    recall  f1-score   support\n",
            "\n",
            "     Eğlence       0.00      0.00      0.00         0\n",
            "      Sağlık       0.00      0.00      0.00         1\n",
            "     Siyaset       1.00      1.00      1.00         1\n",
            "        Spor       0.00      0.00      0.00         0\n",
            "   Teknoloji       0.00      0.00      0.00         1\n",
            "\n",
            "    accuracy                           0.33         3\n",
            "   macro avg       0.20      0.20      0.20         3\n",
            "weighted avg       0.33      0.33      0.33         3\n",
            "\n"
          ]
        }
      ],
      "source": [
        "# Gerekli kütüphaneleri yükleyelim\n",
        "import numpy as np\n",
        "from sklearn.model_selection import train_test_split\n",
        "from sklearn.feature_extraction.text import CountVectorizer\n",
        "from sklearn.naive_bayes import MultinomialNB\n",
        "from sklearn.metrics import classification_report\n",
        "\n",
        "# Örnek metinler ve etiketler\n",
        "texts = [\n",
        "    \"Hükümet seçim yasalarını değiştirdi ve yeni anayasa üzerinde çalışıyor.\",  # Siyaset\n",
        "    \"Yapay zeka alanında büyük ilerlemeler kaydedildi.\",  # Teknoloji\n",
        "    \"Futbol takımları yeni sezona hazırlanıyor.\",  # Spor\n",
        "    \"Aşılar pandemiyle mücadelede kritik rol oynuyor.\",  # Sağlık\n",
        "    \"Yeni bir film festivali İstanbul'da başladı.\",  # Eğlence\n",
        "    \"Seçim kampanyasında dijital medya kullanımı arttı.\",  # Siyaset\n",
        "    \"Yeni bir robot geliştirdi, hayatı kolaylaştıracak.\",  # Teknoloji\n",
        "    \"Futbolcu yeni transferi ile taraftarları heyecanlandırdı.\",  # Spor\n",
        "    \"Hastalar için yeni tedavi yöntemleri geliştiriliyor.\",  # Sağlık\n",
        "    \"Tiyatroda komedi performansı izleyenleri güldürdü.\"  # Eğlence\n",
        "]\n",
        "\n",
        "labels = ['Siyaset', 'Teknoloji', 'Spor', 'Sağlık', 'Eğlence', 'Siyaset', 'Teknoloji', 'Spor', 'Sağlık', 'Eğlence']\n",
        "\n",
        "# Veriyi eğitim ve test setlerine ayıralım\n",
        "X_train, X_test, y_train, y_test = train_test_split(texts, labels, test_size=0.3, random_state=42)\n",
        "\n",
        "# Metinleri sayısal verilere dönüştürmek için CountVectorizer kullanıyoruz\n",
        "vectorizer = CountVectorizer(stop_words='english')  # stop_words ile gereksiz kelimeler çıkarılır\n",
        "X_train_vect = vectorizer.fit_transform(X_train)\n",
        "X_test_vect = vectorizer.transform(X_test)\n",
        "\n",
        "# Naive Bayes sınıflandırıcısı ile modelimizi eğitelim\n",
        "model = MultinomialNB()\n",
        "model.fit(X_train_vect, y_train)\n",
        "\n",
        "# Modeli test edelim\n",
        "y_pred = model.predict(X_test_vect)\n",
        "\n",
        "# Sonuçları yazdıralım\n",
        "print(classification_report(y_test, y_pred))\n",
        "\n",
        "# Kullanıcıdan bir metin alıp, sınıflandırma yapalım\n",
        "text_input = input(\"Bir metin girin: \")\n",
        "text_vect = vectorizer.transform([text_input])\n",
        "predicted_category = model.predict(text_vect)[0]\n",
        "print(\"Metnin konusu:\", predicted_category)\n"
      ]
    }
  ]
}