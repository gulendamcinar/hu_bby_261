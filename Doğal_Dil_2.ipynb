{
  "nbformat": 4,
  "nbformat_minor": 0,
  "metadata": {
    "colab": {
      "provenance": [],
      "authorship_tag": "ABX9TyNE1fSgpreYX8b4OD86m/sr",
      "include_colab_link": true
    },
    "kernelspec": {
      "name": "python3",
      "display_name": "Python 3"
    },
    "language_info": {
      "name": "python"
    }
  },
  "cells": [
    {
      "cell_type": "markdown",
      "metadata": {
        "id": "view-in-github",
        "colab_type": "text"
      },
      "source": [
        "<a href=\"https://colab.research.google.com/github/gulendamcinar/hu_bby_261/blob/main/Do%C4%9Fal_Dil_2.ipynb\" target=\"_parent\"><img src=\"https://colab.research.google.com/assets/colab-badge.svg\" alt=\"Open In Colab\"/></a>"
      ]
    },
    {
      "cell_type": "code",
      "source": [
        "# Anahtar kelimeler listesi\n",
        "keywords = {\n",
        "    \"Siyaset\": [\"hükümet\", \"seçim\", \"yasa\", \"parti\", \"lider\", \"politika\", \"parlamento\", \"anayasa\", \"milletvekili\", \"diplomasi\", \"bakanlık\",\n",
        "                \"toplum\", \"kampanya\", \"başkan\", \"rejim\", \"demokrasi\", \"seçmen\", \"koalisyon\", \"hükümet programı\", \"propaganda\", \"anayasacılık\",\n",
        "                \"iktidar\", \"muhalefet\", \"sandık\", \"başbakan\", \"cumhurbaşkanı\", \"reform\", \"yasama\", \"iktidar partisi\", \"seçim kampanyası\", \"parti lideri\"],\n",
        "\n",
        "    \"Teknoloji\": [\"yazılım\", \"bilgisayar\", \"internet\", \"yapay zeka\", \"yapay\", \"zeka\", \"cihaz\", \"uygulama\", \"robot\", \"ağ\", \"veri\", \"algoritma\",\n",
        "                  \"donanım\", \"siber\", \"yazıcı\", \"kodlama\", \"platform\", \"dijital\", \"akıllı telefon\", \"internet bağlantısı\", \"yazılım geliştirme\",\n",
        "                  \"elektronik\", \"mobil uygulama\", \"bilişim\", \"ağ güvenliği\", \"veri madenciliği\", \"bulut bilişim\", \"5G\", \"nesnelerin interneti\",\n",
        "                  \"blockchain\", \"sanal gerçeklik\", \"VR\", \"yenilikçi\", \"otomasyon\", \"elektrikli araçlar\"],\n",
        "\n",
        "    \"Spor\": [\"futbol\", \"basketbol\", \"maç\", \"oyuncu\", \"şampiyon\", \"antrenman\", \"koç\", \"turnuva\", \"stadyum\", \"takım\", \"gol\", \"mücadele\", \"saha\",\n",
        "             \"taraftar\", \"skor\", \"şampiyonluk\", \"ligin lideri\", \"antrenman\", \"maç sonucu\", \"hakem\", \"turnuva\", \"tribün\", \"iddialı\", \"yarış\",\n",
        "             \"taktik\", \"final\", \"kupa\", \"vücut geliştirme\", \"olimpiyat\", \"futbolcu\", \"basketbol sahası\", \"sporcu\"],\n",
        "\n",
        "    \"Sağlık\": [\"doktor\", \"hastane\", \"tedavi\", \"sağlık\", \"ilaç\", \"hasta\", \"virüs\", \"aşı\", \"pandemi\", \"klinik\", \"hemşire\", \"hijyen\", \"sağlıklı\",\n",
        "               \"ameliyat\", \"beslenme\", \"bağışıklık\", \"hastalık\", \"sağlık hizmeti\", \"korunma\", \"acil servis\", \"sağlık sigortası\", \"fiziksel sağlık\",\n",
        "               \"psikolojik sağlık\", \"rehabilitasyon\", \"ağız sağlığı\", \"ilaç tedavisi\", \"endemik hastalık\", \"kardiyoloji\", \"diyabet\", \"kanser tedavisi\", \"aşı\"],\n",
        "\n",
        "    \"Eğlence\": [\"film\", \"müzik\", \"dizi\", \"sanatçı\", \"tiyatro\", \"eğlence\", \"festival\", \"konser\", \"sahne\", \"komedi\", \"oyuncu\", \"dans\", \"şov\",\n",
        "                \"prodüksiyon\", \"koreografi\", \"komedi filmi\", \"drama\", \"dizi izleme\", \"sinema\", \"popüler kültür\", \"albüm\", \"sanat galerisi\",\n",
        "                \"müzik listesi\", \"sahne performansı\", \"oyunculuk\", \"yetenek yarışması\", \"film festivali\", \"karaoke\", \"müzikal\", \"tiyatro salonu\", \"izleyici\"]\n",
        "}\n",
        "\n",
        "# Metnin hangi konuya ait olduğunu belirleme fonksiyonu\n",
        "def determine_topic(text):\n",
        "    # Metni küçük harflere çevir ve kelimelere ayır\n",
        "    words = text.lower().split()\n",
        "\n",
        "    # Her konu başlığı için kelime sayısını tut\n",
        "    topic_counts = {topic: 0 for topic in keywords}\n",
        "\n",
        "    # Metindeki kelimeleri anahtar kelimelerle karşılaştır\n",
        "    for word in words:\n",
        "        for topic, word_list in keywords.items():\n",
        "            if word in word_list:\n",
        "                topic_counts[topic] += 1\n",
        "\n",
        "    # En fazla eşleşme olan başlığı bul\n",
        "    max_topic = max(topic_counts, key=topic_counts.get)\n",
        "\n",
        "    # Eğer hiçbir başlıkta kelime sayısı yoksa \"Diğer konular\" dön\n",
        "    if topic_counts[max_topic] == 0:\n",
        "        return \"Diğer konular\"\n",
        "    else:\n",
        "        return max_topic\n",
        "\n",
        "# Kullanıcıdan metin al\n",
        "text = input(\"Metni girin: \")\n",
        "\n",
        "# Fonksiyonu çağır ve sonucu al\n",
        "result = determine_topic(text)\n",
        "\n",
        "# Sonucu yazdır\n",
        "print(\"Metnin konusu:\", result)\n"
      ],
      "metadata": {
        "id": "cnDVt0uvfDXT"
      },
      "execution_count": null,
      "outputs": []
    }
  ]
}